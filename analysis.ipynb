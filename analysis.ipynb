{
 "nbformat": 4,
 "nbformat_minor": 2,
 "metadata": {
  "language_info": {
   "name": "python",
   "codemirror_mode": {
    "name": "ipython",
    "version": 3
   },
   "version": "3.7.4-final"
  },
  "orig_nbformat": 2,
  "file_extension": ".py",
  "mimetype": "text/x-python",
  "name": "python",
  "npconvert_exporter": "python",
  "pygments_lexer": "ipython3",
  "version": 3,
  "kernelspec": {
   "name": "python3",
   "display_name": "Python 3"
  }
 },
 "cells": [
  {
   "cell_type": "code",
   "execution_count": 10,
   "metadata": {},
   "outputs": [],
   "source": [
    "import pandas as pd\n",
    "import dateutil.parser\n",
    "from datetime import datetime\n",
    "import time"
   ]
  },
  {
   "cell_type": "code",
   "execution_count": 11,
   "metadata": {},
   "outputs": [],
   "source": [
    "# Pandas DataFrames reading data before and after Covid-19 campus closure on 3/13\n",
    "df_before = pd.read_csv(\"before_covid19.csv\")\n",
    "df_after = pd.read_csv(\"after_covid19.csv\")"
   ]
  },
  {
   "cell_type": "code",
   "execution_count": 12,
   "metadata": {},
   "outputs": [
    {
     "name": "stdout",
     "output_type": "stream",
     "text": "Average Fill Level Before Covid-19: 38.81395348837209\nAverage Fill Level After Covid-19: 37.0\n"
    }
   ],
   "source": [
    "# Average fill levels at time of pick-up\n",
    "emptied_entries_before = df_before[(df_before.levelAtEmpty >= 0)]\n",
    "avg_levelAtEmpty_before = emptied_entries_before[\"levelAtEmpty\"].mean()\n",
    "print(\"Average Fill Level Before Covid-19:\", avg_levelAtEmpty_before)\n",
    "\n",
    "emptied_entries_after = df_after[(df_after.levelAtEmpty >= 0)]\n",
    "avg_levelAtEmpty_after = emptied_entries_after[\"levelAtEmpty\"].mean()\n",
    "print(\"Average Fill Level After Covid-19:\", avg_levelAtEmpty_after)\n"
   ]
  },
  {
   "cell_type": "code",
   "execution_count": 13,
   "metadata": {},
   "outputs": [],
   "source": [
    "# returns integer representing Unix Timestamp, for the purpose of comparing timestamps\n",
    "def get_unix_time(unformatted_time):\n",
    "    date_object = datetime.strptime(unformatted_time, \"%Y-%m-%dT%H:%M:%S.%fZ\")\n",
    "    new_date = time.mktime(date_object.timetuple())\n",
    "    return new_date"
   ]
  }
 ]
}