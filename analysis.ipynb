{
 "nbformat": 4,
 "nbformat_minor": 2,
 "metadata": {
  "language_info": {
   "name": "python",
   "codemirror_mode": {
    "name": "ipython",
    "version": 3
   },
   "version": "3.7.4-final"
  },
  "orig_nbformat": 2,
  "file_extension": ".py",
  "mimetype": "text/x-python",
  "name": "python",
  "npconvert_exporter": "python",
  "pygments_lexer": "ipython3",
  "version": 3,
  "kernelspec": {
   "name": "python3",
   "display_name": "Python 3"
  }
 },
 "cells": [
  {
   "cell_type": "code",
   "execution_count": 8,
   "metadata": {},
   "outputs": [],
   "source": [
    "# QUEST Team: Who's Your Data? - Daniel Ben-Or, Ryan Gerbes, Amod Mathur, Tori Miske, Allie Strouse\n",
    "\n",
    "# This Python notebook analyzes the average fill level of each sensor-equipped dumpster at UMD.\n",
    "# Summary: \n",
    "\n",
    "# Van Munching Hall: 9.2\n",
    "# Denton Hall: 30.78\n",
    "# Patapsco Building: 15.79\n",
    "# UM Technology Ventures: 26.54\n",
    "# Gosset Football Teamhouse: 29.79"
   ]
  },
  {
   "cell_type": "code",
   "execution_count": 9,
   "metadata": {},
   "outputs": [],
   "source": [
    "# imports pandas library\n",
    "import pandas as pd"
   ]
  },
  {
   "cell_type": "code",
   "execution_count": 10,
   "metadata": {},
   "outputs": [],
   "source": [
    "# reads sample data into DataFrame\n",
    "df = pd.read_csv(\"compology_sample_data.csv\")\n"
   ]
  },
  {
   "cell_type": "code",
   "execution_count": 11,
   "metadata": {},
   "outputs": [
    {
     "name": "stdout",
     "output_type": "stream",
     "text": "9.2\n"
    }
   ],
   "source": [
    "# Van Munchinng Hall\n",
    "vmh_data = df[(df.serviceLocationDescription == \"Van Munching Hall\")]\n",
    "vmh_mean = vmh_data[\"level\"].mean()\n",
    "print(vmh_mean)\n"
   ]
  },
  {
   "cell_type": "code",
   "execution_count": 12,
   "metadata": {},
   "outputs": [
    {
     "name": "stdout",
     "output_type": "stream",
     "text": "30.775862068965516\n"
    }
   ],
   "source": [
    "denton_data = df[(df.serviceLocationDescription == \"Denton Hall\")]\n",
    "denton_mean = denton_data[\"level\"].mean()\n",
    "print(denton_mean)"
   ]
  },
  {
   "cell_type": "code",
   "execution_count": 13,
   "metadata": {},
   "outputs": [
    {
     "name": "stdout",
     "output_type": "stream",
     "text": "15.793103448275861\n"
    }
   ],
   "source": [
    "patapsco_data = df[(df.serviceLocationDescription == \"Patapsco Building\")]\n",
    "patapsco_mean = patapsco_data[\"level\"].mean()\n",
    "print(patapsco_mean)"
   ]
  },
  {
   "cell_type": "code",
   "execution_count": 14,
   "metadata": {},
   "outputs": [
    {
     "name": "stdout",
     "output_type": "stream",
     "text": "26.535714285714285\n"
    }
   ],
   "source": [
    "tech_ventures_data = df[(df.serviceLocationDescription == \"UM Technology Ventures\")]\n",
    "tech_ventures_mean = tech_ventures_data[\"level\"].mean()\n",
    "print(tech_ventures_mean)"
   ]
  },
  {
   "cell_type": "code",
   "execution_count": 15,
   "metadata": {},
   "outputs": [
    {
     "name": "stdout",
     "output_type": "stream",
     "text": "29.79310344827586\n"
    }
   ],
   "source": [
    "gosset_data = df[(df.serviceLocationDescription == \"Gosset Football Teamhouse\")]\n",
    "gosset_mean = gosset_data[\"level\"].mean()\n",
    "print(gosset_mean)"
   ]
  },
  {
   "cell_type": "code",
   "execution_count": 16,
   "metadata": {},
   "outputs": [
    {
     "name": "stdout",
     "output_type": "stream",
     "text": "7.0\n"
    }
   ],
   "source": [
    "vmh_median = vmh_data[\"level\"].median()\n",
    "print(vmh_median)"
   ]
  },
  {
   "cell_type": "code",
   "execution_count": null,
   "metadata": {},
   "outputs": [],
   "source": []
  }
 ]
}