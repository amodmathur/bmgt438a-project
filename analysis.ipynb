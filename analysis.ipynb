{
 "nbformat": 4,
 "nbformat_minor": 2,
 "metadata": {
  "language_info": {
   "name": "python",
   "codemirror_mode": {
    "name": "ipython",
    "version": 3
   },
   "version": "3.7.4-final"
  },
  "orig_nbformat": 2,
  "file_extension": ".py",
  "mimetype": "text/x-python",
  "name": "python",
  "npconvert_exporter": "python",
  "pygments_lexer": "ipython3",
  "version": 3,
  "kernelspec": {
   "name": "python3",
   "display_name": "Python 3"
  }
 },
 "cells": [
  {
   "cell_type": "code",
   "execution_count": 92,
   "metadata": {},
   "outputs": [],
   "source": [
    "import pandas as pd\n",
    "import dateutil.parser\n",
    "from datetime import datetime\n",
    "import time"
   ]
  },
  {
   "cell_type": "code",
   "execution_count": 93,
   "metadata": {},
   "outputs": [],
   "source": [
    "# reads inputted .csv file\n",
    "df = pd.read_csv(\"before_covid19.csv\")"
   ]
  },
  {
   "cell_type": "code",
   "execution_count": 94,
   "metadata": {},
   "outputs": [
    {
     "name": "stdout",
     "output_type": "stream",
     "text": "38.81395348837209\n"
    }
   ],
   "source": [
    "# Average fill levels at time of pick-up\n",
    "emptied_entries = df[(df.levelAtEmpty >= 0)]\n",
    "avg_levelAtEmpty = emptied_entries[\"levelAtEmpty\"].mean()\n",
    "print(avg_levelAtEmpty)"
   ]
  },
  {
   "cell_type": "code",
   "execution_count": 95,
   "metadata": {},
   "outputs": [],
   "source": [
    "# returns integer representing Unix Timestamp, for the purpose of comparing timestamps\n",
    "def get_unix_time(unformatted_time):\n",
    "    date_object = datetime.strptime(unformatted_time, \"%Y-%m-%dT%H:%M:%S.%fZ\")\n",
    "    new_date = time.mktime(date_object.timetuple())\n",
    "    return new_date"
   ]
  }
 ]
}