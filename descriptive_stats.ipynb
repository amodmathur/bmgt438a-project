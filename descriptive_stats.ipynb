{
 "nbformat": 4,
 "nbformat_minor": 2,
 "metadata": {
  "language_info": {
   "name": "python",
   "codemirror_mode": {
    "name": "ipython",
    "version": 3
   },
   "version": "3.7.4-final"
  },
  "orig_nbformat": 2,
  "file_extension": ".py",
  "mimetype": "text/x-python",
  "name": "python",
  "npconvert_exporter": "python",
  "pygments_lexer": "ipython3",
  "version": 3,
  "kernelspec": {
   "name": "python3",
   "display_name": "Python 3"
  }
 },
 "cells": [
  {
   "cell_type": "code",
   "execution_count": 1,
   "metadata": {},
   "outputs": [],
   "source": [
    "# This Python notebook analyzes the average fill level of each sensor-equipped dumpster at UMD.\n",
    "\n",
    "# Summary: \n",
    "# Van Munching Hall: 9.2\n",
    "# Denton Hall: 30.78\n",
    "# Patapsco Building: 15.79\n",
    "# UM Technology Ventures: 26.54\n",
    "# Gosset Football Teamhouse: 29.79"
   ]
  },
  {
   "cell_type": "code",
   "execution_count": 15,
   "metadata": {},
   "outputs": [],
   "source": [
    "# imports libraries\n",
    "import numpy as np\n",
    "import pandas as pd\n",
    "import matplotlib.pyplot as plt"
   ]
  },
  {
   "cell_type": "code",
   "execution_count": 16,
   "metadata": {},
   "outputs": [],
   "source": [
    "# reads sample data into DataFrame\n",
    "df = pd.read_csv(\"before_covid19.csv\")\n"
   ]
  },
  {
   "cell_type": "code",
   "execution_count": 17,
   "metadata": {},
   "outputs": [
    {
     "name": "stdout",
     "output_type": "stream",
     "text": "9.372549019607844\n"
    }
   ],
   "source": [
    "# Van Munching Hall\n",
    "vmh_data = df[(df.serviceLocationDescription == \"Van Munching Hall\")]\n",
    "vmh_mean = vmh_data[\"level\"].mean()\n",
    "print(vmh_mean)\n"
   ]
  },
  {
   "cell_type": "code",
   "execution_count": 18,
   "metadata": {},
   "outputs": [
    {
     "name": "stdout",
     "output_type": "stream",
     "text": "29.436974789915965\n"
    }
   ],
   "source": [
    "denton_data = df[(df.serviceLocationDescription == \"Denton Hall\")]\n",
    "denton_mean = denton_data[\"level\"].mean()\n",
    "print(denton_mean)"
   ]
  },
  {
   "cell_type": "code",
   "execution_count": 19,
   "metadata": {},
   "outputs": [
    {
     "name": "stdout",
     "output_type": "stream",
     "text": "23.966101694915253\n"
    }
   ],
   "source": [
    "patapsco_data = df[(df.serviceLocationDescription == \"Patapsco Building\")]\n",
    "patapsco_mean = patapsco_data[\"level\"].mean()\n",
    "print(patapsco_mean)"
   ]
  },
  {
   "cell_type": "code",
   "execution_count": 20,
   "metadata": {},
   "outputs": [
    {
     "name": "stdout",
     "output_type": "stream",
     "text": "27.153846153846153\n"
    }
   ],
   "source": [
    "tech_ventures_data = df[(df.serviceLocationDescription == \"UM Technology Ventures\")]\n",
    "tech_ventures_mean = tech_ventures_data[\"level\"].mean()\n",
    "print(tech_ventures_mean)"
   ]
  },
  {
   "cell_type": "code",
   "execution_count": 21,
   "metadata": {},
   "outputs": [
    {
     "name": "stdout",
     "output_type": "stream",
     "text": "29.73170731707317\n"
    }
   ],
   "source": [
    "gosset_data = df[(df.serviceLocationDescription == \"Gosset Football Teamhouse\")]\n",
    "gosset_mean = gosset_data[\"level\"].mean()\n",
    "print(gosset_mean)"
   ]
  },
  {
   "cell_type": "code",
   "execution_count": 22,
   "metadata": {},
   "outputs": [
    {
     "name": "stdout",
     "output_type": "stream",
     "text": "7.0\n"
    }
   ],
   "source": [
    "vmh_median = vmh_data[\"level\"].median()\n",
    "print(vmh_median)"
   ]
  }
 ]
}