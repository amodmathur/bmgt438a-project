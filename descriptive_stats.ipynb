{
 "nbformat": 4,
 "nbformat_minor": 2,
 "metadata": {
  "language_info": {
   "name": "python",
   "codemirror_mode": {
    "name": "ipython",
    "version": 3
   },
   "version": "3.7.4-final"
  },
  "orig_nbformat": 2,
  "file_extension": ".py",
  "mimetype": "text/x-python",
  "name": "python",
  "npconvert_exporter": "python",
  "pygments_lexer": "ipython3",
  "version": 3,
  "kernelspec": {
   "name": "python3",
   "display_name": "Python 3"
  }
 },
 "cells": [
  {
   "cell_type": "code",
   "execution_count": 30,
   "metadata": {},
   "outputs": [],
   "source": [
    "# This Python notebook analyzes the average fill level of each sensor-equipped dumpster at UMD.\n",
    "# NOTE: The data is analyzed in a 'before -> after' format, accounting for the Covid-19 campus closure on 3/13.\n",
    "\n",
    "# Summary: \n",
    "# Van Munching Hall: 9.37 -> 3.45\n",
    "# Denton Hall: 29.44 -> 23.72\n",
    "# Patapsco Building: 23.97 -> 20.53\n",
    "# UM Technology Ventures: 27.15 -> 19.21\n",
    "# Gosset Football Teamhouse: 29.73 -> 20.41"
   ]
  },
  {
   "cell_type": "code",
   "execution_count": 31,
   "metadata": {},
   "outputs": [],
   "source": [
    "# imports libraries\n",
    "import numpy as np\n",
    "import pandas as pd"
   ]
  },
  {
   "cell_type": "code",
   "execution_count": 32,
   "metadata": {},
   "outputs": [],
   "source": [
    "# reads sample data into DataFrame\n",
    "df = pd.read_csv(\"before_covid19.csv\")\n",
    "df_after = pd.read_csv('after_covid19.csv')"
   ]
  },
  {
   "cell_type": "code",
   "execution_count": 33,
   "metadata": {},
   "outputs": [
    {
     "name": "stdout",
     "output_type": "stream",
     "text": "9.372549019607844\n3.4545454545454546\n"
    }
   ],
   "source": [
    "# Van Munching Hall\n",
    "vmh_data = df[(df.serviceLocationDescription == \"Van Munching Hall\")]\n",
    "vmh_mean = vmh_data[\"level\"].mean()\n",
    "\n",
    "vmh_data_after = df_after[(df_after.serviceLocationDescription == \"Van Munching Hall\")]\n",
    "vmh_mean_after = vmh_data_after[\"level\"].mean()\n",
    "\n",
    "print(vmh_mean)\n",
    "print(vmh_mean_after)\n"
   ]
  },
  {
   "cell_type": "code",
   "execution_count": 34,
   "metadata": {},
   "outputs": [
    {
     "name": "stdout",
     "output_type": "stream",
     "text": "29.436974789915965\n23.724137931034484\n"
    }
   ],
   "source": [
    "denton_data = df[(df.serviceLocationDescription == \"Denton Hall\")]\n",
    "denton_mean = denton_data[\"level\"].mean()\n",
    "\n",
    "denton_data_after = df_after[(df_after.serviceLocationDescription == \"Denton Hall\")]\n",
    "denton_mean_after = denton_data_after[\"level\"].mean()\n",
    "\n",
    "print(denton_mean)\n",
    "print(denton_mean_after)"
   ]
  },
  {
   "cell_type": "code",
   "execution_count": 35,
   "metadata": {},
   "outputs": [
    {
     "name": "stdout",
     "output_type": "stream",
     "text": "23.966101694915253\n20.52857142857143\n"
    }
   ],
   "source": [
    "patapsco_data = df[(df.serviceLocationDescription == \"Patapsco Building\")]\n",
    "patapsco_mean = patapsco_data[\"level\"].mean()\n",
    "\n",
    "patapsco_data_after = df_after[(df_after.serviceLocationDescription == \"Patapsco Building\")]\n",
    "patapsco_mean_after = patapsco_data_after[\"level\"].mean()\n",
    "\n",
    "print(patapsco_mean)\n",
    "print(patapsco_mean_after)"
   ]
  },
  {
   "cell_type": "code",
   "execution_count": 36,
   "metadata": {},
   "outputs": [
    {
     "name": "stdout",
     "output_type": "stream",
     "text": "27.153846153846153\n19.214285714285715\n"
    }
   ],
   "source": [
    "tech_ventures_data = df[(df.serviceLocationDescription == \"UM Technology Ventures\")]\n",
    "tech_ventures_mean = tech_ventures_data[\"level\"].mean()\n",
    "\n",
    "tech_ventures_data_after = df_after[(df_after.serviceLocationDescription == \"UM Technology Ventures\")]\n",
    "tech_ventures_mean_after = tech_ventures_data_after[\"level\"].mean()\n",
    "\n",
    "print(tech_ventures_mean)\n",
    "print(tech_ventures_mean_after)"
   ]
  },
  {
   "cell_type": "code",
   "execution_count": 37,
   "metadata": {},
   "outputs": [
    {
     "name": "stdout",
     "output_type": "stream",
     "text": "29.73170731707317\n20.41176470588235\n"
    }
   ],
   "source": [
    "gosset_data = df[(df.serviceLocationDescription == \"Gosset Football Teamhouse\")]\n",
    "gosset_mean = gosset_data[\"level\"].mean()\n",
    "\n",
    "gosset_data_after = df_after[(df_after.serviceLocationDescription == \"Gosset Football Teamhouse\")]\n",
    "gosset_mean_after = gosset_data_after[\"level\"].mean()\n",
    "\n",
    "print(gosset_mean)\n",
    "print(gosset_mean_after)"
   ]
  }
 ]
}